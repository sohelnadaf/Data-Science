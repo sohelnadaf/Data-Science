{
 "cells": [
  {
   "cell_type": "markdown",
   "id": "7eb0bbb0",
   "metadata": {},
   "source": [
    "## 1. Write a Python program to print \"Hello Python\"?"
   ]
  },
  {
   "cell_type": "code",
   "execution_count": 22,
   "id": "079c64ce",
   "metadata": {},
   "outputs": [
    {
     "name": "stdout",
     "output_type": "stream",
     "text": [
      "\"Hello Python\"\n"
     ]
    }
   ],
   "source": [
    "print('\"Hello Python\"')"
   ]
  },
  {
   "cell_type": "markdown",
   "id": "d011a2b4",
   "metadata": {},
   "source": [
    "## 2. Write a Python program to do arithmetical operations addition and division.?"
   ]
  },
  {
   "cell_type": "code",
   "execution_count": 2,
   "id": "2f2e7e94",
   "metadata": {},
   "outputs": [
    {
     "name": "stdout",
     "output_type": "stream",
     "text": [
      "enter num 110\n",
      "enter num 2 20\n",
      "addition is 30\n",
      "division is 0.5\n"
     ]
    }
   ],
   "source": [
    "num1 = int(input(\"enter num 1\"))\n",
    "num2 = int(input(\"enter num 2 \"))\n",
    "\n",
    "# addition\n",
    "sol = num1 + num2\n",
    "print(f\"addition is {sol}\")\n",
    "\n",
    "# division\n",
    "sol = num1 / num2 \n",
    "print(f\"division is {sol}\")\n"
   ]
  },
  {
   "cell_type": "markdown",
   "id": "b4733fc4",
   "metadata": {},
   "source": [
    "## 3. Write a Python program to find the area of a triangle?"
   ]
  },
  {
   "cell_type": "code",
   "execution_count": 4,
   "id": "97c34f69",
   "metadata": {},
   "outputs": [
    {
     "name": "stdout",
     "output_type": "stream",
     "text": [
      "enter base value 5\n",
      "enter height 3\n",
      "area of triangle is 7.5\n"
     ]
    }
   ],
   "source": [
    "base = int(input(\"enter base value \"))\n",
    "height = int(input(\"enter height \"))\n",
    "\n",
    "# formula for area of triangle\n",
    "Area_of_triangle = (1/2)*base*height\n",
    "print(f\"area of triangle is {Area_of_triangle}\")"
   ]
  },
  {
   "cell_type": "markdown",
   "id": "0b39bab2",
   "metadata": {},
   "source": [
    "## 4. Write a Python program to swap two variables?"
   ]
  },
  {
   "cell_type": "code",
   "execution_count": 9,
   "id": "ffbc26f1",
   "metadata": {},
   "outputs": [
    {
     "name": "stdout",
     "output_type": "stream",
     "text": [
      "enter num 134\n",
      "enter num 243\n",
      "before swapping values \n",
      "34 and 43\n",
      "after swapping values\n",
      "43 and 34\n"
     ]
    }
   ],
   "source": [
    "# taking input for num1 and num2\n",
    "num1 = int(input(\"enter num 1\"))\n",
    "num2 = int(input(\"enter num 2\"))\n",
    "\n",
    "# temp var to store value temporary\n",
    "temp = 0\n",
    "\n",
    "# before swapping value\n",
    "print(\"before swapping values \")\n",
    "print(f\"{num1} and {num2}\")\n",
    "\n",
    "# algo\n",
    "temp = num1\n",
    "num1 = num2\n",
    "num2 = temp\n",
    "\n",
    "print(\"after swapping values\")\n",
    "print(f\"{num1} and {num2}\")\n"
   ]
  },
  {
   "cell_type": "markdown",
   "id": "849df92d",
   "metadata": {},
   "source": [
    "## 5. Write a Python program to generate a random number?"
   ]
  },
  {
   "cell_type": "code",
   "execution_count": 21,
   "id": "10673705",
   "metadata": {},
   "outputs": [
    {
     "name": "stdout",
     "output_type": "stream",
     "text": [
      "enter end range number 455\n",
      "random number 162\n"
     ]
    }
   ],
   "source": [
    "import random\n",
    "num = int(input(\"enter end range number \"))\n",
    "\n",
    "val = random.randint(0,num)\n",
    "print(f\"random number {val}\")"
   ]
  }
 ],
 "metadata": {
  "kernelspec": {
   "display_name": "Python 3 (ipykernel)",
   "language": "python",
   "name": "python3"
  },
  "language_info": {
   "codemirror_mode": {
    "name": "ipython",
    "version": 3
   },
   "file_extension": ".py",
   "mimetype": "text/x-python",
   "name": "python",
   "nbconvert_exporter": "python",
   "pygments_lexer": "ipython3",
   "version": "3.9.12"
  }
 },
 "nbformat": 4,
 "nbformat_minor": 5
}
