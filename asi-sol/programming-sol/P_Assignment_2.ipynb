{
 "cells": [
  {
   "cell_type": "markdown",
   "id": "8a92959e",
   "metadata": {},
   "source": [
    "# (SOHEL NADAF)"
   ]
  },
  {
   "cell_type": "markdown",
   "id": "48e4f2ee",
   "metadata": {},
   "source": [
    "## 1. Write a Python program to convert kilometers to miles?"
   ]
  },
  {
   "cell_type": "code",
   "execution_count": 5,
   "id": "8051ae53",
   "metadata": {},
   "outputs": [
    {
     "name": "stdout",
     "output_type": "stream",
     "text": [
      "enter kilometer 5\n",
      "5 KM is 3.106856 miles\n"
     ]
    }
   ],
   "source": [
    "# static value for 1 mile\n",
    "mi_1 = 0.6213712\n",
    "\n",
    "# taking input\n",
    "k_data = int(input(\"enter kilometer \"))\n",
    "# calculating km to mile\n",
    "mi = k_data * mi_1\n",
    "print(f\"{k_data} KM is {mi} miles\")\n"
   ]
  },
  {
   "cell_type": "markdown",
   "id": "4fdab621",
   "metadata": {},
   "source": [
    "## 2. Write a Python program to convert Celsius to Fahrenheit?"
   ]
  },
  {
   "cell_type": "code",
   "execution_count": 12,
   "id": "09e088c1",
   "metadata": {},
   "outputs": [
    {
     "name": "stdout",
     "output_type": "stream",
     "text": [
      "enter celsius-50\n",
      "[-50.0]°C in Fahrenheit [-58.0]°F\n"
     ]
    }
   ],
   "source": [
    "# taking inmput\n",
    "celsius = float(input(\"enter celsius\"))\n",
    "\n",
    "# converting formula\n",
    "result = (celsius * 9/5) + 32 \n",
    "\n",
    "print(f'[{celsius}]°C in Fahrenheit [{result}]°F')"
   ]
  },
  {
   "cell_type": "markdown",
   "id": "cd0c3e04",
   "metadata": {},
   "source": [
    "## 3. Write a Python program to display calendar?"
   ]
  },
  {
   "cell_type": "code",
   "execution_count": 23,
   "id": "de966e1b",
   "metadata": {},
   "outputs": [
    {
     "name": "stdout",
     "output_type": "stream",
     "text": [
      "enter your to see calender 2023\n",
      "                                  2023\n",
      "\n",
      "      January                   February                   March\n",
      "Mo Tu We Th Fr Sa Su      Mo Tu We Th Fr Sa Su      Mo Tu We Th Fr Sa Su\n",
      "                   1             1  2  3  4  5             1  2  3  4  5\n",
      " 2  3  4  5  6  7  8       6  7  8  9 10 11 12       6  7  8  9 10 11 12\n",
      " 9 10 11 12 13 14 15      13 14 15 16 17 18 19      13 14 15 16 17 18 19\n",
      "16 17 18 19 20 21 22      20 21 22 23 24 25 26      20 21 22 23 24 25 26\n",
      "23 24 25 26 27 28 29      27 28                     27 28 29 30 31\n",
      "30 31\n",
      "\n",
      "       April                      May                       June\n",
      "Mo Tu We Th Fr Sa Su      Mo Tu We Th Fr Sa Su      Mo Tu We Th Fr Sa Su\n",
      "                1  2       1  2  3  4  5  6  7                1  2  3  4\n",
      " 3  4  5  6  7  8  9       8  9 10 11 12 13 14       5  6  7  8  9 10 11\n",
      "10 11 12 13 14 15 16      15 16 17 18 19 20 21      12 13 14 15 16 17 18\n",
      "17 18 19 20 21 22 23      22 23 24 25 26 27 28      19 20 21 22 23 24 25\n",
      "24 25 26 27 28 29 30      29 30 31                  26 27 28 29 30\n",
      "\n",
      "        July                     August                  September\n",
      "Mo Tu We Th Fr Sa Su      Mo Tu We Th Fr Sa Su      Mo Tu We Th Fr Sa Su\n",
      "                1  2          1  2  3  4  5  6                   1  2  3\n",
      " 3  4  5  6  7  8  9       7  8  9 10 11 12 13       4  5  6  7  8  9 10\n",
      "10 11 12 13 14 15 16      14 15 16 17 18 19 20      11 12 13 14 15 16 17\n",
      "17 18 19 20 21 22 23      21 22 23 24 25 26 27      18 19 20 21 22 23 24\n",
      "24 25 26 27 28 29 30      28 29 30 31               25 26 27 28 29 30\n",
      "31\n",
      "\n",
      "      October                   November                  December\n",
      "Mo Tu We Th Fr Sa Su      Mo Tu We Th Fr Sa Su      Mo Tu We Th Fr Sa Su\n",
      "                   1             1  2  3  4  5                   1  2  3\n",
      " 2  3  4  5  6  7  8       6  7  8  9 10 11 12       4  5  6  7  8  9 10\n",
      " 9 10 11 12 13 14 15      13 14 15 16 17 18 19      11 12 13 14 15 16 17\n",
      "16 17 18 19 20 21 22      20 21 22 23 24 25 26      18 19 20 21 22 23 24\n",
      "23 24 25 26 27 28 29      27 28 29 30               25 26 27 28 29 30 31\n",
      "30 31\n",
      "\n"
     ]
    }
   ],
   "source": [
    "import  calendar\n",
    "\n",
    "yy = int(input(\"enter your to see calender \"))\n",
    "\n",
    "print(calendar.calendar(yy))\n"
   ]
  },
  {
   "cell_type": "markdown",
   "id": "42eaebf3",
   "metadata": {},
   "source": [
    "## 4. Write a Python program to solve quadratic equation?"
   ]
  },
  {
   "cell_type": "code",
   "execution_count": 30,
   "id": "1d39f0d6",
   "metadata": {},
   "outputs": [
    {
     "name": "stdout",
     "output_type": "stream",
     "text": [
      "enter value for a1\n",
      "enter value for b4\n",
      "enter value for c5\n",
      "solution's (-2-1j) and (-2+1j)\n"
     ]
    }
   ],
   "source": [
    "import cmath\n",
    "\n",
    "# taking imput\n",
    "a = int(input(\"enter value for a\"))\n",
    "b = int(input(\"enter value for b\"))\n",
    "c = int(input(\"enter value for c\"))\n",
    "\n",
    "#  discriminant\n",
    "d = (b**2) - (4*a*c)\n",
    "\n",
    "# find two solutions\n",
    "s1 = (-b-cmath.sqrt(d))/(2*a)\n",
    "s2 = (-b+cmath.sqrt(d))/(2*a)\n",
    "\n",
    "print(f\"solution's {s1} and {s2}\")"
   ]
  },
  {
   "cell_type": "markdown",
   "id": "4af3c91f",
   "metadata": {},
   "source": [
    "## 5. Write a Python program to swap two variables without temp variable?"
   ]
  },
  {
   "cell_type": "code",
   "execution_count": 34,
   "id": "1c3f6919",
   "metadata": {},
   "outputs": [
    {
     "name": "stdout",
     "output_type": "stream",
     "text": [
      "enter number 156\n",
      "enter number 2100\n",
      "before swapping 56 100\n",
      " after swapping 100 56\n"
     ]
    }
   ],
   "source": [
    "# taking input\n",
    "a = int(input(\"enter number 1\"))\n",
    "b = int(input(\"enter number 2\"))\n",
    "print(f\"before swapping {a} {b}\")\n",
    "\n",
    "a = a + b\n",
    "b = a- b\n",
    "a = a -b\n",
    "\n",
    "print(f\" after swapping {a} {b}\")\n"
   ]
  }
 ],
 "metadata": {
  "kernelspec": {
   "display_name": "Python 3 (ipykernel)",
   "language": "python",
   "name": "python3"
  },
  "language_info": {
   "codemirror_mode": {
    "name": "ipython",
    "version": 3
   },
   "file_extension": ".py",
   "mimetype": "text/x-python",
   "name": "python",
   "nbconvert_exporter": "python",
   "pygments_lexer": "ipython3",
   "version": "3.9.12"
  }
 },
 "nbformat": 4,
 "nbformat_minor": 5
}
