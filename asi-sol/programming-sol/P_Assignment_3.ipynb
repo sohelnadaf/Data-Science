{
 "cells": [
  {
   "cell_type": "markdown",
   "id": "c314d94b",
   "metadata": {},
   "source": [
    "# (SOHEL NADAF)"
   ]
  },
  {
   "cell_type": "markdown",
   "id": "86d171db",
   "metadata": {},
   "source": [
    "## 1. Write a Python Program to Check if a Number is Positive, Negative or Zero?"
   ]
  },
  {
   "cell_type": "code",
   "execution_count": 4,
   "id": "6b1f6e51",
   "metadata": {},
   "outputs": [
    {
     "name": "stdout",
     "output_type": "stream",
     "text": [
      "enter number0\n",
      "0 number is zero\n"
     ]
    }
   ],
   "source": [
    "num = int(input(\"enter number\"))\n",
    "\n",
    "# conditions for checking +ve,-ve,0\n",
    "if(num >0):\n",
    "    print(f\"{num} number is positive\")\n",
    "elif(num<0):\n",
    "    print(f\"{num} number is negative\")\n",
    "else:\n",
    "    print(f\"{num} number is zero\") "
   ]
  },
  {
   "cell_type": "markdown",
   "id": "eddc9131",
   "metadata": {},
   "source": [
    "## 2. Write a Python Program to Check if a Number is Odd or Even?"
   ]
  },
  {
   "cell_type": "code",
   "execution_count": 9,
   "id": "01dffa59",
   "metadata": {},
   "outputs": [
    {
     "name": "stdout",
     "output_type": "stream",
     "text": [
      "enter a number1\n",
      "1 is Odd\n"
     ]
    }
   ],
   "source": [
    "# taking num as a input\n",
    "num = int(input(\"enter a number\"))\n",
    "\n",
    "# coditions to check odd or even number\n",
    "if(num % 2 == 0):\n",
    "    print(f\"{num} is Even\")\n",
    "else:\n",
    "    print(f\"{num} is Odd\")"
   ]
  },
  {
   "cell_type": "markdown",
   "id": "24913ecf",
   "metadata": {},
   "source": [
    "## 3. Write a Python Program to Check Leap Year?"
   ]
  },
  {
   "cell_type": "code",
   "execution_count": 13,
   "id": "78812545",
   "metadata": {},
   "outputs": [
    {
     "name": "stdout",
     "output_type": "stream",
     "text": [
      "enter year2024\n",
      "2024 is leap year\n"
     ]
    }
   ],
   "source": [
    "# taking year as a input\n",
    "year = int(input(\"enter year\"))\n",
    "\n",
    "# checking leap year or not conditions\n",
    "if(year % 4 ==0):\n",
    "    if(year % 100 ==0):\n",
    "        if(year % 400 ==0):\n",
    "            print(f\"{year} is leap year\")\n",
    "        else:\n",
    "            print(f\"{year} is not leap year\")\n",
    "    else:\n",
    "        print(f\"{year} is leap year\")\n",
    "else:\n",
    "    print(f\"{year} is not leap year\")"
   ]
  },
  {
   "cell_type": "markdown",
   "id": "6483dee9",
   "metadata": {},
   "source": [
    "## 4. Write a Python Program to Check Prime Number?"
   ]
  },
  {
   "cell_type": "code",
   "execution_count": 43,
   "id": "2273e5af",
   "metadata": {},
   "outputs": [
    {
     "name": "stdout",
     "output_type": "stream",
     "text": [
      "enter a number 27\n",
      "27 is not a prime number\n"
     ]
    }
   ],
   "source": [
    "# taking input\n",
    "num = int(input(\"enter a number \"))\n",
    "\n",
    "if num > 1:\n",
    "    for i in range(2, int(num/2)+1):\n",
    "        if (num % i) == 0:\n",
    "            print(f\"{num} is not a prime number\")\n",
    "            break\n",
    "    else:\n",
    "        print(f\"{num} is a prime number\")\n",
    "else:\n",
    "    print(f\"{num} is not a prime number\")"
   ]
  },
  {
   "cell_type": "markdown",
   "id": "793b3ac2",
   "metadata": {},
   "source": [
    "## 5. Write a Python Program to Print all Prime Numbers in an Interval of 1-10000?"
   ]
  },
  {
   "cell_type": "code",
   "execution_count": null,
   "id": "d48dadf3",
   "metadata": {},
   "outputs": [],
   "source": []
  }
 ],
 "metadata": {
  "kernelspec": {
   "display_name": "Python 3 (ipykernel)",
   "language": "python",
   "name": "python3"
  },
  "language_info": {
   "codemirror_mode": {
    "name": "ipython",
    "version": 3
   },
   "file_extension": ".py",
   "mimetype": "text/x-python",
   "name": "python",
   "nbconvert_exporter": "python",
   "pygments_lexer": "ipython3",
   "version": "3.9.12"
  }
 },
 "nbformat": 4,
 "nbformat_minor": 5
}
