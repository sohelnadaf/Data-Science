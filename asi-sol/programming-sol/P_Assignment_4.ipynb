{
 "cells": [
  {
   "cell_type": "markdown",
   "id": "2dc7f9d7",
   "metadata": {},
   "source": [
    "# (SOHEL NADAF)"
   ]
  },
  {
   "cell_type": "markdown",
   "id": "a1ed08e0",
   "metadata": {},
   "source": [
    "## 1. Write a Python Program to Find the Factorial of a Number?"
   ]
  },
  {
   "cell_type": "code",
   "execution_count": 5,
   "id": "23526ef9",
   "metadata": {},
   "outputs": [
    {
     "name": "stdout",
     "output_type": "stream",
     "text": [
      "enter a number3\n",
      "The factorial of 3 is 6\n"
     ]
    }
   ],
   "source": [
    "#recursion function\n",
    "def fact(n):\n",
    "    if n==1:\n",
    "        return n\n",
    "    else:\n",
    "        return n*fact(n-1)\n",
    "\n",
    "# taking a number from user \n",
    "num = int(input(\"enter a number\"))    \n",
    "\n",
    "# validating a number \n",
    "if num<0:\n",
    "    print(\"sorry this is not factorial\")\n",
    "elif num==0:\n",
    "    print(\"the factorial of 0 is 1\")\n",
    "else:\n",
    "    print(f\"The factorial of {num} is {fact(num)}\")"
   ]
  },
  {
   "cell_type": "markdown",
   "id": "ef164145",
   "metadata": {},
   "source": [
    "## 2. Write a Python Program to Display the multiplication Table?"
   ]
  },
  {
   "cell_type": "code",
   "execution_count": 26,
   "id": "92b4c55c",
   "metadata": {},
   "outputs": [
    {
     "name": "stdout",
     "output_type": "stream",
     "text": [
      "enter table number 10\n",
      "10\n",
      "20\n",
      "30\n",
      "40\n",
      "50\n",
      "60\n",
      "70\n",
      "80\n",
      "90\n",
      "100\n"
     ]
    }
   ],
   "source": [
    "# Table number \n",
    "num = int(input(\"enter table number \"))\n",
    "\n",
    "for i in range(1,11):\n",
    "    print(i*num)"
   ]
  },
  {
   "cell_type": "markdown",
   "id": "6530fa98",
   "metadata": {},
   "source": [
    "## 3. Write a Python Program to Print the Fibonacci sequence?"
   ]
  },
  {
   "cell_type": "code",
   "execution_count": 39,
   "id": "c592417f",
   "metadata": {},
   "outputs": [],
   "source": [
    "def fibo_ser(n):\n",
    "    a = 0\n",
    "    b = 1\n",
    "    if n==1:\n",
    "        print(a)\n",
    "    else:\n",
    "        print(a)\n",
    "        print(b)\n",
    "        for i in range(2,n):\n",
    "            c = a + b\n",
    "            a=b\n",
    "            b=c\n",
    "            print(c)"
   ]
  },
  {
   "cell_type": "code",
   "execution_count": 40,
   "id": "080df94e",
   "metadata": {},
   "outputs": [
    {
     "name": "stdout",
     "output_type": "stream",
     "text": [
      "0\n",
      "1\n",
      "1\n",
      "2\n",
      "3\n",
      "5\n",
      "8\n"
     ]
    }
   ],
   "source": [
    "fibo_ser(7)"
   ]
  },
  {
   "cell_type": "markdown",
   "id": "8ea5d89a",
   "metadata": {},
   "source": [
    "## 4. Write a Python Program to Check Armstrong Number?"
   ]
  },
  {
   "cell_type": "code",
   "execution_count": 7,
   "id": "ad7bc52b",
   "metadata": {},
   "outputs": [],
   "source": [
    "def ArmNumber(n):\n",
    "    dtrnum = str(n)\n",
    "    lennum = len(dtrnum)\n",
    "    \n",
    "    count = 0\n",
    "    for i in dtrnum:\n",
    "        count += int(i)**lennum\n",
    "    if count == n:\n",
    "        return True\n",
    "    else:\n",
    "        return False"
   ]
  },
  {
   "cell_type": "code",
   "execution_count": 26,
   "id": "6b4443b6",
   "metadata": {},
   "outputs": [
    {
     "name": "stdout",
     "output_type": "stream",
     "text": [
      "enter number to check ArmStrong Or Not371\n",
      "371 is ArmStrong Number\n"
     ]
    }
   ],
   "source": [
    "num = int(input(\"enter number to check ArmStrong Or Not\"))\n",
    "if(ArmNumber(num)):\n",
    "    print(f\"{num} is ArmStrong Number\")\n",
    "else:\n",
    "    print(f\"{num} is not ArmStrong Number\")"
   ]
  },
  {
   "cell_type": "markdown",
   "id": "fbf061b2",
   "metadata": {},
   "source": [
    "## 5. Write a Python Program to Find Armstrong Number in an Interval?   "
   ]
  },
  {
   "cell_type": "code",
   "execution_count": 38,
   "id": "58980279",
   "metadata": {},
   "outputs": [
    {
     "name": "stdout",
     "output_type": "stream",
     "text": [
      "enter starting Range Number100\n",
      "enter ending Range Number1000\n",
      "\n",
      " All ArmString Numbers\n"
     ]
    },
    {
     "data": {
      "text/plain": [
       "[153, 370, 371, 407]"
      ]
     },
     "execution_count": 38,
     "metadata": {},
     "output_type": "execute_result"
    }
   ],
   "source": [
    "snum = int(input(\"enter starting Range Number\"))\n",
    "lnum = int(input(\"enter ending Range Number\"))\n",
    "lst = []\n",
    "for i in range(snum,lnum+1):\n",
    "    temp = str(i)\n",
    "    numlen  = len(temp)\n",
    "    count = 0\n",
    "    for j in temp:\n",
    "        count += int(j)**numlen\n",
    "    if(count == i):\n",
    "        lst.append(count)\n",
    "print(\"\\n All ArmString Numbers\")       \n",
    "lst "
   ]
  },
  {
   "cell_type": "markdown",
   "id": "8ec77753",
   "metadata": {},
   "source": [
    "## 6. Write a Python Program to Find the Sum of Natural Numbers?"
   ]
  },
  {
   "cell_type": "code",
   "execution_count": 3,
   "id": "472b7c01",
   "metadata": {},
   "outputs": [],
   "source": [
    "def SumNaturalNum(num):\n",
    "    count = 0\n",
    "    for i in range(num+1):\n",
    "        count+= i\n",
    "    return count"
   ]
  },
  {
   "cell_type": "code",
   "execution_count": 5,
   "id": "bb1af0f4",
   "metadata": {},
   "outputs": [
    {
     "name": "stdout",
     "output_type": "stream",
     "text": [
      "enter a number30\n",
      "sum of all Natural Numbers is 465\n"
     ]
    }
   ],
   "source": [
    "num = int(input(\"enter a number\"))\n",
    "result = SumNaturalNum(num)\n",
    "print(f\"sum of all Natural Numbers is {result}\")"
   ]
  }
 ],
 "metadata": {
  "kernelspec": {
   "display_name": "Python 3 (ipykernel)",
   "language": "python",
   "name": "python3"
  },
  "language_info": {
   "codemirror_mode": {
    "name": "ipython",
    "version": 3
   },
   "file_extension": ".py",
   "mimetype": "text/x-python",
   "name": "python",
   "nbconvert_exporter": "python",
   "pygments_lexer": "ipython3",
   "version": "3.9.12"
  }
 },
 "nbformat": 4,
 "nbformat_minor": 5
}
