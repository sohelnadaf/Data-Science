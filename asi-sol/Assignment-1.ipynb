{
 "cells": [
  {
   "cell_type": "markdown",
   "id": "b2f9d347",
   "metadata": {},
   "source": [
    "# SOHEL NADAF - Assignment-1"
   ]
  },
  {
   "cell_type": "markdown",
   "id": "c213712c",
   "metadata": {},
   "source": [
    "## 1. In the below elements which of them are values or an expression? eg:- values can be integer or string and expressions will be mathematical operators."
   ]
  },
  {
   "cell_type": "code",
   "execution_count": 2,
   "id": "58b23277",
   "metadata": {},
   "outputs": [],
   "source": [
    "# asterisk symbol used to multiplication  \n",
    "*"
   ]
  },
  {
   "cell_type": "code",
   "execution_count": 3,
   "id": "b4b85b9d",
   "metadata": {},
   "outputs": [
    {
     "data": {
      "text/plain": [
       "200"
      ]
     },
     "execution_count": 3,
     "metadata": {},
     "output_type": "execute_result"
    }
   ],
   "source": [
    "# example of asterisk\n",
    "10 * 20"
   ]
  },
  {
   "cell_type": "code",
   "execution_count": null,
   "id": "f946f016",
   "metadata": {},
   "outputs": [],
   "source": [
    "# this is a string \n",
    "'hello'"
   ]
  },
  {
   "cell_type": "code",
   "execution_count": 4,
   "id": "36c46b5f",
   "metadata": {},
   "outputs": [
    {
     "data": {
      "text/plain": [
       "-87.8"
      ]
     },
     "execution_count": 4,
     "metadata": {},
     "output_type": "execute_result"
    }
   ],
   "source": [
    "# this is Unary Negation \n",
    "-87.8"
   ]
  },
  {
   "cell_type": "code",
   "execution_count": null,
   "id": "f55a63ea",
   "metadata": {},
   "outputs": [],
   "source": [
    "# Arithmetic Operator used for performing substraction operation\n",
    "- "
   ]
  },
  {
   "cell_type": "code",
   "execution_count": 5,
   "id": "4785f22d",
   "metadata": {},
   "outputs": [
    {
     "data": {
      "text/plain": [
       "17"
      ]
     },
     "execution_count": 5,
     "metadata": {},
     "output_type": "execute_result"
    }
   ],
   "source": [
    "#example \n",
    "40-23"
   ]
  },
  {
   "cell_type": "code",
   "execution_count": null,
   "id": "84c3d102",
   "metadata": {},
   "outputs": [],
   "source": [
    "# Arithmetic Operator used for performing division operation it will give result in float \n",
    "/"
   ]
  },
  {
   "cell_type": "code",
   "execution_count": 6,
   "id": "1e629f74",
   "metadata": {},
   "outputs": [
    {
     "data": {
      "text/plain": [
       "2.0"
      ]
     },
     "execution_count": 6,
     "metadata": {},
     "output_type": "execute_result"
    }
   ],
   "source": [
    "#example \n",
    "10/5"
   ]
  },
  {
   "cell_type": "code",
   "execution_count": null,
   "id": "5f22723c",
   "metadata": {},
   "outputs": [],
   "source": [
    "# Arithmetic Operator used to perform addition operation\n",
    "+ "
   ]
  },
  {
   "cell_type": "code",
   "execution_count": 7,
   "id": "5e8ae2b5",
   "metadata": {},
   "outputs": [
    {
     "data": {
      "text/plain": [
       "30"
      ]
     },
     "execution_count": 7,
     "metadata": {},
     "output_type": "execute_result"
    }
   ],
   "source": [
    "10 + 20"
   ]
  },
  {
   "cell_type": "code",
   "execution_count": null,
   "id": "1a16e8c4",
   "metadata": {},
   "outputs": [],
   "source": [
    "# this is a integer value \n",
    "6"
   ]
  },
  {
   "cell_type": "markdown",
   "id": "a0eb7fa6",
   "metadata": {},
   "source": [
    "## 2. What is the difference between string and variable?"
   ]
  },
  {
   "cell_type": "code",
   "execution_count": 10,
   "id": "2ed7ff47",
   "metadata": {},
   "outputs": [
    {
     "name": "stdout",
     "output_type": "stream",
     "text": [
      "sohel nadaf is a type of <class 'str'>\n"
     ]
    }
   ],
   "source": [
    "# string - A string is a sequence of one or more characters they are immutable it means we cant change them  \n",
    "data  = \"sohel nadaf\" \n",
    "print(f\"{data} is a type of {type(data)}\")"
   ]
  },
  {
   "cell_type": "code",
   "execution_count": 13,
   "id": "cd656575",
   "metadata": {},
   "outputs": [
    {
     "name": "stdout",
     "output_type": "stream",
     "text": [
      "we can print data with the help of variable sohel nadaf\n"
     ]
    }
   ],
   "source": [
    "# variable - varibale are symbols we can store data inside variable so we can use them later in pgm\n",
    "#             simply means varibale used to hold the data just like above example \n",
    "# variable can store data of different types int,string,float,list etc...\n",
    "\n",
    "#     variable     string data\n",
    "#      data    =    \"sohel nadaf\"\n",
    "\n",
    "print(f\"we can print data with the help of variable {data}\")"
   ]
  },
  {
   "cell_type": "markdown",
   "id": "7c214d2f",
   "metadata": {},
   "source": [
    "## 3. Describe three different data types."
   ]
  },
  {
   "cell_type": "code",
   "execution_count": null,
   "id": "30d0a497",
   "metadata": {},
   "outputs": [],
   "source": [
    "# data type is very much important part of any pgm lang without that we cant do a single operations \n",
    "# there are various data types whcih we can perfrom different differernt types of operation.\n"
   ]
  },
  {
   "cell_type": "markdown",
   "id": "4dbc8de9",
   "metadata": {},
   "source": [
    "#### 1.numeric data types"
   ]
  },
  {
   "cell_type": "code",
   "execution_count": 17,
   "id": "c9ea6100",
   "metadata": {},
   "outputs": [
    {
     "name": "stdout",
     "output_type": "stream",
     "text": [
      "this is int data type 10\n",
      "this is flaot data type 10.89\n",
      "this is complex data type 3.4j\n"
     ]
    }
   ],
   "source": [
    "# numeric data type represent the data which has numeric value \n",
    "\n",
    "\n",
    "# int  -  It contains positive or negative whole numbers \n",
    "a = 10\n",
    "print(f\"this is int data type {a} \")\n",
    "\n",
    "# float - real number with  floating point\n",
    "b = 10.89\n",
    "print(f\"this is flaot data type {b}\")\n",
    "\n",
    "# complex - combination of (real part) + (imaginary part)j\n",
    "c = 3.4j\n",
    "print(f\"this is complex data type {c}\")"
   ]
  },
  {
   "cell_type": "markdown",
   "id": "214a5155",
   "metadata": {},
   "source": [
    "#### 2.Sequence data Type "
   ]
  },
  {
   "cell_type": "code",
   "execution_count": 18,
   "id": "49d687d1",
   "metadata": {},
   "outputs": [
    {
     "name": "stdout",
     "output_type": "stream",
     "text": [
      " sohel nadaf this is string data type\n",
      "[10, 'sohel', 134.54, 3.4j]\n"
     ]
    }
   ],
   "source": [
    "# sequence is the collection of similar or different data types \n",
    "# string  - is a collection of one or more characters.\n",
    "s = \"sohel nadaf\"\n",
    "print(f\" {s} this is string data type\")\n",
    "\n",
    "#list - list is just like array but the difference is in python we can store any kind of data type in  list with sequence\n",
    "l = [10,\"sohel\",134.54,3.4j] \n",
    "print(l)"
   ]
  },
  {
   "cell_type": "markdown",
   "id": "2ce361bf",
   "metadata": {},
   "source": [
    "#### 3 .Dictionary"
   ]
  },
  {
   "cell_type": "code",
   "execution_count": 22,
   "id": "947139e8",
   "metadata": {},
   "outputs": [
    {
     "name": "stdout",
     "output_type": "stream",
     "text": [
      "{'name': 'sohel', 'age': 23, 'location': {'pune', 'solapur'}}\n"
     ]
    },
    {
     "data": {
      "text/plain": [
       "{'pune', 'solapur'}"
      ]
     },
     "execution_count": 22,
     "metadata": {},
     "output_type": "execute_result"
    }
   ],
   "source": [
    "# Dictionary is an unordered collection of data values \n",
    "# which can store data in key-value pair.\n",
    "# we can find data with the help of keys\n",
    "\n",
    "d = {\"name\":\"sohel\",\"age\":23,\"location\":{\"pune\",\"solapur\"}}\n",
    "print(d)\n",
    "# finding name wiht name key \n",
    "d[\"name\"]\n",
    "\n",
    "# finding location with location key\n",
    "d['location']"
   ]
  },
  {
   "cell_type": "markdown",
   "id": "8adde012",
   "metadata": {},
   "source": [
    "## 4. What is an expression made up of? What do all expressions do?"
   ]
  },
  {
   "cell_type": "code",
   "execution_count": 23,
   "id": "093ba471",
   "metadata": {},
   "outputs": [
    {
     "name": "stdout",
     "output_type": "stream",
     "text": [
      "30\n"
     ]
    }
   ],
   "source": [
    "# An expression is a combination of operators and operands to do specific operation \n",
    "# for example \n",
    "\n",
    "a = 10\n",
    "b = 20 \n",
    "# this is an example of expression which is the combination of operators + and operands a,b and producing output c \n",
    "# expressions produce values \n",
    "c = a + b\n",
    "print(c)"
   ]
  },
  {
   "cell_type": "markdown",
   "id": "2d4a1930",
   "metadata": {},
   "source": [
    "## 5. This assignment statements, like spam = 10. What is the difference between an expression and a statement?"
   ]
  },
  {
   "cell_type": "code",
   "execution_count": 25,
   "id": "b7ddcb9b",
   "metadata": {},
   "outputs": [
    {
     "name": "stdout",
     "output_type": "stream",
     "text": [
      "30\n"
     ]
    }
   ],
   "source": [
    "# Statement is the smallest executable unit of code\n",
    "# following is just a statement (creating a varibale)\n",
    "spam = 10\n",
    "\n",
    "# we write code each and every line we write called as statement which then executed by compiler or interpreter.\n",
    "# example if , while ,for , import are all statements.\n",
    "\n",
    "c = 10 + 20\n",
    "# above line of code called as expression because Expression always evaluates to a value.\n",
    "\n",
    "print(c)  # print is again statement."
   ]
  },
  {
   "cell_type": "markdown",
   "id": "5a275942",
   "metadata": {},
   "source": [
    "## 6. After running the following code, what does the variable bacon contain?\n",
    "bacon = 22\n",
    "\n",
    "bacon + 1"
   ]
  },
  {
   "cell_type": "code",
   "execution_count": 26,
   "id": "f6432734",
   "metadata": {},
   "outputs": [
    {
     "data": {
      "text/plain": [
       "23"
      ]
     },
     "execution_count": 26,
     "metadata": {},
     "output_type": "execute_result"
    }
   ],
   "source": [
    "bacon = 22\n",
    "bacon + 1  # with +1 we incrementing bacon value by 1 so value of bacon is 23 after execution "
   ]
  },
  {
   "cell_type": "markdown",
   "id": "4a47f1a8",
   "metadata": {},
   "source": [
    "## 7. What should the values of the following two terms be?\n",
    "'spam' + 'spamspam'\n",
    "\n",
    "'spam' * 3"
   ]
  },
  {
   "cell_type": "code",
   "execution_count": 28,
   "id": "4e5c9d32",
   "metadata": {},
   "outputs": [
    {
     "data": {
      "text/plain": [
       "'spamspamspam'"
      ]
     },
     "execution_count": 28,
     "metadata": {},
     "output_type": "execute_result"
    }
   ],
   "source": [
    "# using + operator with sting value it can perform concatenation operation \n",
    "'spam' + 'spamspam'"
   ]
  },
  {
   "cell_type": "code",
   "execution_count": 30,
   "id": "df7be3dc",
   "metadata": {},
   "outputs": [
    {
     "data": {
      "text/plain": [
       "'spamspamspam'"
      ]
     },
     "execution_count": 30,
     "metadata": {},
     "output_type": "execute_result"
    }
   ],
   "source": [
    "# here with the help of asterisk * symbol we just multiply the string value three times \n",
    "'spam'*3"
   ]
  },
  {
   "cell_type": "markdown",
   "id": "8acca084",
   "metadata": {},
   "source": [
    "## 8. Why is eggs a valid variable name while 100 is invalid?"
   ]
  },
  {
   "cell_type": "code",
   "execution_count": 33,
   "id": "eb7745c9",
   "metadata": {},
   "outputs": [
    {
     "name": "stdout",
     "output_type": "stream",
     "text": [
      "eggs valid variable name which holds 30\n"
     ]
    }
   ],
   "source": [
    "# this is valid variable name because eggs is not a value \n",
    "# eggs is variable and 30 is the value which associated with variable eggs\n",
    "eggs = 30 \n",
    "print(f\"eggs valid variable name which holds {eggs}\")"
   ]
  },
  {
   "cell_type": "code",
   "execution_count": 34,
   "id": "6895c538",
   "metadata": {},
   "outputs": [
    {
     "ename": "SyntaxError",
     "evalue": "cannot assign to literal (3541994527.py, line 2)",
     "output_type": "error",
     "traceback": [
      "\u001b[1;36m  Input \u001b[1;32mIn [34]\u001b[1;36m\u001b[0m\n\u001b[1;33m    100 = \"sohel\"\u001b[0m\n\u001b[1;37m    ^\u001b[0m\n\u001b[1;31mSyntaxError\u001b[0m\u001b[1;31m:\u001b[0m cannot assign to literal\n"
     ]
    }
   ],
   "source": [
    "# 100 is invalid data type because we cant use value type for variable creation as per python guideline\n",
    "100 = \"sohel\""
   ]
  },
  {
   "cell_type": "markdown",
   "id": "77c26a75",
   "metadata": {},
   "source": [
    "## 9. What three functions can be used to get the integer, floating-point number, or string version of a value?"
   ]
  },
  {
   "cell_type": "markdown",
   "id": "421a7ad0",
   "metadata": {},
   "source": [
    "#### 1.int() function"
   ]
  },
  {
   "cell_type": "code",
   "execution_count": 39,
   "id": "48f13500",
   "metadata": {},
   "outputs": [
    {
     "name": "stdout",
     "output_type": "stream",
     "text": [
      "previous value 10.9 and type <class 'float'>\n",
      "after using int() function value 10 and type <class 'int'>\n"
     ]
    }
   ],
   "source": [
    "# if we want to convert value form one data type to another data type at that time we need these function\n",
    "# we can also call it as type casting\n",
    "# with the help of int() function we can convert float value to integer value \n",
    "a = 10.90\n",
    "b = int(a)\n",
    "print(f\"previous value {a} and type {(type(a))}\")\n",
    "print(f\"after using int() function value {b} and type {type(b)}\")"
   ]
  },
  {
   "cell_type": "markdown",
   "id": "3869621f",
   "metadata": {},
   "source": [
    "#### 2. float() function\n"
   ]
  },
  {
   "cell_type": "code",
   "execution_count": 43,
   "id": "c2a12bc1",
   "metadata": {},
   "outputs": [
    {
     "name": "stdout",
     "output_type": "stream",
     "text": [
      "previous value 10 and there data type <class 'int'>\n",
      "after using float() function value 10.0 and type <class 'float'>\n"
     ]
    }
   ],
   "source": [
    "# if we want to convert integer value to float value then at that time we use float() function.\n",
    "\n",
    "a = 10\n",
    "b = float(a)\n",
    "print(f'previous value {a} and there data type {type(a)}')\n",
    "print(f'after using float() function value {b} and type {type(b)}')\n"
   ]
  },
  {
   "cell_type": "markdown",
   "id": "7290e58e",
   "metadata": {},
   "source": [
    "#### 3. str() function"
   ]
  },
  {
   "cell_type": "code",
   "execution_count": 48,
   "id": "54f2c5ad",
   "metadata": {},
   "outputs": [
    {
     "name": "stdout",
     "output_type": "stream",
     "text": [
      "previous value 10 and there data type <class 'int'>\n",
      "after using str() function value 10 and type <class 'str'>\n",
      "previous value 10.89 and there data type <class 'float'>\n",
      "after using str() function value 10.89 and type <class 'str'>\n"
     ]
    }
   ],
   "source": [
    "# if we want to convert any other data type into string at that time we use str() function \n",
    "\n",
    "# here converting integer to string\n",
    "a = 10\n",
    "b = str(a)\n",
    "print(f'previous value {a} and there data type {type(a)}')\n",
    "print(f'after using str() function value {b} and type {type(b)}')\n",
    "\n",
    "# here converting float to string\n",
    "c = 10.89\n",
    "d = str(c)\n",
    "print(f'previous value {c} and there data type {type(c)}')\n",
    "print(f'after using str() function value {d} and type {type(d)}')\n"
   ]
  },
  {
   "cell_type": "markdown",
   "id": "c6ca583e",
   "metadata": {},
   "source": [
    "## 10. Why does this expression cause an error? How can you fix it?\n",
    "'I have eaten ' + 99 + ' burritos.'"
   ]
  },
  {
   "cell_type": "code",
   "execution_count": 51,
   "id": "cc80de1a",
   "metadata": {},
   "outputs": [
    {
     "ename": "TypeError",
     "evalue": "can only concatenate str (not \"int\") to str",
     "output_type": "error",
     "traceback": [
      "\u001b[1;31m---------------------------------------------------------------------------\u001b[0m",
      "\u001b[1;31mTypeError\u001b[0m                                 Traceback (most recent call last)",
      "Input \u001b[1;32mIn [51]\u001b[0m, in \u001b[0;36m<cell line: 1>\u001b[1;34m()\u001b[0m\n\u001b[1;32m----> 1\u001b[0m \u001b[38;5;124;43m'\u001b[39;49m\u001b[38;5;124;43mI have eaten \u001b[39;49m\u001b[38;5;124;43m'\u001b[39;49m\u001b[43m \u001b[49m\u001b[38;5;241;43m+\u001b[39;49m\u001b[43m \u001b[49m\u001b[38;5;241;43m99\u001b[39;49m \u001b[38;5;241m+\u001b[39m \u001b[38;5;124m'\u001b[39m\u001b[38;5;124m burritos.\u001b[39m\u001b[38;5;124m'\u001b[39m\n",
      "\u001b[1;31mTypeError\u001b[0m: can only concatenate str (not \"int\") to str"
     ]
    }
   ],
   "source": [
    "# this expression will give an error \n",
    "# we are trying to concatenate string with integer which is not possible \n",
    "# if we want to do then we need to convert integer to string then it wont give an error  \n",
    "'I have eaten ' + 99 + ' burritos.'"
   ]
  },
  {
   "cell_type": "code",
   "execution_count": 53,
   "id": "a6fbbee4",
   "metadata": {},
   "outputs": [
    {
     "data": {
      "text/plain": [
       "'I have eaten 99 burritos.'"
      ]
     },
     "execution_count": 53,
     "metadata": {},
     "output_type": "execute_result"
    }
   ],
   "source": [
    "# solving above error\n",
    "# we just convert the integer value to string with the help of str() function.\n",
    "'I have eaten ' + str(99) + ' burritos.'"
   ]
  },
  {
   "cell_type": "code",
   "execution_count": null,
   "id": "8fdc5eaf",
   "metadata": {},
   "outputs": [],
   "source": []
  }
 ],
 "metadata": {
  "kernelspec": {
   "display_name": "Python 3 (ipykernel)",
   "language": "python",
   "name": "python3"
  },
  "language_info": {
   "codemirror_mode": {
    "name": "ipython",
    "version": 3
   },
   "file_extension": ".py",
   "mimetype": "text/x-python",
   "name": "python",
   "nbconvert_exporter": "python",
   "pygments_lexer": "ipython3",
   "version": "3.9.12"
  }
 },
 "nbformat": 4,
 "nbformat_minor": 5
}
