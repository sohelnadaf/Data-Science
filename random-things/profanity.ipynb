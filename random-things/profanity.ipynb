{
 "cells": [
  {
   "cell_type": "raw",
   "id": "6f2bd4ae",
   "metadata": {},
   "source": [
    "https://pypi.org/project/better-profanity/"
   ]
  },
  {
   "cell_type": "code",
   "execution_count": 1,
   "id": "cf40f179",
   "metadata": {},
   "outputs": [
    {
     "name": "stdout",
     "output_type": "stream",
     "text": [
      "Collecting better-profanity\n",
      "  Downloading better_profanity-0.7.0-py3-none-any.whl (46 kB)\n",
      "Installing collected packages: better-profanity\n",
      "Successfully installed better-profanity-0.7.0\n"
     ]
    }
   ],
   "source": [
    "\n",
    "!pip install better-profanity"
   ]
  },
  {
   "cell_type": "code",
   "execution_count": 2,
   "id": "c28eb89f",
   "metadata": {},
   "outputs": [],
   "source": [
    "from better_profanity import profanity"
   ]
  },
  {
   "cell_type": "code",
   "execution_count": 6,
   "id": "f35fa871",
   "metadata": {},
   "outputs": [],
   "source": [
    "data  = \"sohel is a shitty boy\""
   ]
  },
  {
   "cell_type": "code",
   "execution_count": 7,
   "id": "9ba33705",
   "metadata": {},
   "outputs": [],
   "source": [
    "new_data  = profanity.censor(data)\n"
   ]
  },
  {
   "cell_type": "code",
   "execution_count": 8,
   "id": "6a6ac714",
   "metadata": {},
   "outputs": [
    {
     "name": "stdout",
     "output_type": "stream",
     "text": [
      "sohel is a **** boy\n"
     ]
    }
   ],
   "source": [
    "print(new_data)"
   ]
  },
  {
   "cell_type": "code",
   "execution_count": 9,
   "id": "ef547ec2",
   "metadata": {},
   "outputs": [
    {
     "data": {
      "text/plain": [
       "'C:\\\\Users\\\\zulfiqar\\\\Desktop\\\\DataScience\\\\Jupyter notebooks\\\\DB-operation\\\\19.3 MongoDB'"
      ]
     },
     "execution_count": 9,
     "metadata": {},
     "output_type": "execute_result"
    }
   ],
   "source": [
    "pwd"
   ]
  },
  {
   "cell_type": "code",
   "execution_count": null,
   "id": "67d2837f",
   "metadata": {},
   "outputs": [],
   "source": []
  }
 ],
 "metadata": {
  "kernelspec": {
   "display_name": "Python 3 (ipykernel)",
   "language": "python",
   "name": "python3"
  },
  "language_info": {
   "codemirror_mode": {
    "name": "ipython",
    "version": 3
   },
   "file_extension": ".py",
   "mimetype": "text/x-python",
   "name": "python",
   "nbconvert_exporter": "python",
   "pygments_lexer": "ipython3",
   "version": "3.9.12"
  }
 },
 "nbformat": 4,
 "nbformat_minor": 5
}
